{
 "cells": [
  {
   "cell_type": "markdown",
   "id": "7a4d674d-16fd-441f-9f90-61ebaba8668b",
   "metadata": {},
   "source": [
    "## Setup All Workshop Dependencies\n",
    "#### Note: This Notebook Will Take A Few Minutes To Complete.\n",
    "#### Please Be Patient."
   ]
  },
  {
   "cell_type": "code",
   "execution_count": null,
   "id": "e6e65230-647e-476e-ad65-24ff21ea5ad9",
   "metadata": {
    "tags": []
   },
   "outputs": [],
   "source": [
    "#Please run the below commands to install necessary libraries \n",
    "\n",
    "!pip install sagemaker\n",
    "!pip install pyhumps"
   ]
  },
  {
   "cell_type": "code",
   "execution_count": null,
   "id": "a697e3b2-f8e0-4360-9096-611da9e5d0d4",
   "metadata": {},
   "outputs": [],
   "source": [
    "%pip install --upgrade boto3"
   ]
  },
  {
   "cell_type": "code",
   "execution_count": null,
   "id": "bf3ddb51-c75c-45d8-8c85-c073bf194e2e",
   "metadata": {},
   "outputs": [],
   "source": []
  }
 ],
 "metadata": {
  "kernelspec": {
   "display_name": "Python 3 (ipykernel)",
   "language": "python",
   "name": "python3"
  },
  "language_info": {
   "codemirror_mode": {
    "name": "ipython",
    "version": 3
   },
   "file_extension": ".py",
   "mimetype": "text/x-python",
   "name": "python",
   "nbconvert_exporter": "python",
   "pygments_lexer": "ipython3",
   "version": "3.10.8"
  }
 },
 "nbformat": 4,
 "nbformat_minor": 5
}
