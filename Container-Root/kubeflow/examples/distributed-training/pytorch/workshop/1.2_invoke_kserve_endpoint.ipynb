{
 "cells": [
  {
   "cell_type": "code",
   "execution_count": null,
   "id": "9826ecb2-da2e-4633-a406-6ec1d823bc42",
   "metadata": {},
   "outputs": [],
   "source": [
    "from kserve import KServeClient\n",
    "import requests,os\n",
    "\n",
    "client = KServeClient()\n",
    "resp = client.get(\"image-classify\", namespace=\"kubeflow-user-example-com\")\n",
    "CLUSTER_IP = resp['status']['url']\n",
    "MODEL_NAME = os.environ.get(\"MODEL_NAME\", \"cifar\")\n",
    "isvc_url = f\"{CLUSTER_IP}/v1/models/{MODEL_NAME}:predict\"\n",
    "\n",
    "isvc_url\n"
   ]
  },
  {
   "cell_type": "code",
   "execution_count": null,
   "id": "a359eca6-c5ef-4219-a71b-b71ccaaf868d",
   "metadata": {},
   "outputs": [],
   "source": [
    "import requests\n",
    "import os\n",
    "import json\n",
    "import base64\n",
    "from base64 import b64encode \n",
    "\n",
    "ENCODING = 'utf-8'\n",
    "IMAGE_NAME = '0002.png'\n",
    "\n",
    "# Read the Image binary\n",
    "# result: bytes\n",
    "with open(IMAGE_NAME, 'rb') as open_file:\n",
    "    byte_content = open_file.read()\n",
    "\n",
    "# base64 encode read data\n",
    "# result: bytes \n",
    "base64_bytes = b64encode(byte_content)\n",
    "\n",
    "# Decode bytes to text\n",
    "# result: string (in utf-8)\n",
    "base64_string = base64_bytes.decode(ENCODING)\n",
    "\n",
    "# Create json data\n",
    "raw_data={'instances':[{'data': base64_string}]}"
   ]
  },
  {
   "cell_type": "code",
   "execution_count": null,
   "id": "58247f5b-fcfb-4fc6-b0c4-9d3f93d3c588",
   "metadata": {},
   "outputs": [],
   "source": [
    "client = KServeClient()\n",
    "resp = client.get(\"image-classify\", namespace=\"kubeflow-user-example-com\")\n",
    "\n",
    "response=requests.post(isvc_url, json=raw_data)\n",
    "\n",
    "print(\"Sending request to:\", isvc_url)\n",
    "\n",
    "print(\"Status Code\", response)\n",
    "if response == 200:\n",
    "    print(\"JSON Response \", json.dumps(response.json(), indent=2)) \n",
    "    \n",
    "labels=['airplane', 'automobile', 'bird', 'cat', 'deer', 'dog', 'frog', 'horse', 'ship', 'truck']\n",
    "\n",
    "\n",
    "print(response.json()['predictions'])\n",
    "labels[response.json()['predictions'][0]]"
   ]
  },
  {
   "cell_type": "code",
   "execution_count": null,
   "id": "f72cef71-6e7f-4735-beae-ef8f7229cb99",
   "metadata": {},
   "outputs": [],
   "source": []
  }
 ],
 "metadata": {
  "kernelspec": {
   "display_name": "Python 3 (ipykernel)",
   "language": "python",
   "name": "python3"
  },
  "language_info": {
   "codemirror_mode": {
    "name": "ipython",
    "version": 3
   },
   "file_extension": ".py",
   "mimetype": "text/x-python",
   "name": "python",
   "nbconvert_exporter": "python",
   "pygments_lexer": "ipython3",
   "version": "3.10.8"
  }
 },
 "nbformat": 4,
 "nbformat_minor": 5
}
