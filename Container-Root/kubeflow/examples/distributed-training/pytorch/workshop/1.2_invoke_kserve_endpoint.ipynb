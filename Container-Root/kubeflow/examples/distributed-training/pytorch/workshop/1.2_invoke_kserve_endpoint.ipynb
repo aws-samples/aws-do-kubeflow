{
 "cells": [
  {
   "cell_type": "markdown",
   "id": "0e8d9ba0-d9eb-49d2-9ba7-91661f8fd5fc",
   "metadata": {},
   "source": [
    "## Notebook 1.2 - Invoke KServe Endpoint\n",
    "\n",
    "In this notebook, we will invoke the KServe endpoint created by\n",
    "the accompanied notebook `1.1_deploy_torchserve_kserve.ipynb`."
   ]
  },
  {
   "cell_type": "code",
   "execution_count": null,
   "id": "b2b01a74-aaf9-44d2-84fb-19f09ab3f363",
   "metadata": {},
   "outputs": [],
   "source": [
    "import os\n",
    "import json\n",
    "import base64\n",
    "from base64 import b64encode \n",
    "import requests \n",
    "\n",
    "from kserve import KServeClient\n",
    "from kubeflow.training.utils import utils\n"
   ]
  },
  {
   "cell_type": "code",
   "execution_count": null,
   "id": "9826ecb2-da2e-4633-a406-6ec1d823bc42",
   "metadata": {},
   "outputs": [],
   "source": [
    "# the endpoint name must be the same as the one created \n",
    "# in 1.1_deploy_torchserve_kserve.ipynb (or EKS execution of 2_create_pipeline_k8s_sagemaker.ipynb)\n",
    "inference_endpoint = \"image-classify\"\n",
    "namespace = utils.get_default_target_namespace()\n",
    "\n",
    "client = KServeClient()\n",
    "\n",
    "resp = client.get(\n",
    "    inference_endpoint, \n",
    "    namespace=namespace\n",
    ")\n",
    "\n",
    "CLUSTER_IP = resp['status']['url']\n",
    "MODEL_NAME = os.environ.get(\"MODEL_NAME\", \"cifar\")\n",
    "isvc_url = f\"{CLUSTER_IP}/v1/models/{MODEL_NAME}:predict\"\n",
    "\n",
    "print(isvc_url)\n"
   ]
  },
  {
   "cell_type": "code",
   "execution_count": null,
   "id": "a359eca6-c5ef-4219-a71b-b71ccaaf868d",
   "metadata": {},
   "outputs": [],
   "source": [
    "ENCODING = 'utf-8'\n",
    "IMAGE_NAME = '0002.png'\n",
    "\n",
    "# Read the Image binary\n",
    "# result: bytes\n",
    "with open(IMAGE_NAME, 'rb') as open_file:\n",
    "    byte_content = open_file.read()\n",
    "\n",
    "# base64 encode read data\n",
    "# result: bytes \n",
    "base64_bytes = b64encode(byte_content)\n",
    "\n",
    "# Decode bytes to text\n",
    "# result: string (in utf-8)\n",
    "base64_string = base64_bytes.decode(ENCODING)\n",
    "\n",
    "# Create json data\n",
    "raw_data={'instances':[{'data': base64_string}]}\n"
   ]
  },
  {
   "cell_type": "code",
   "execution_count": null,
   "id": "58247f5b-fcfb-4fc6-b0c4-9d3f93d3c588",
   "metadata": {},
   "outputs": [],
   "source": [
    "response=requests.post(\n",
    "    isvc_url, \n",
    "    json=raw_data\n",
    ")\n",
    "\n",
    "print(\"Sending request to:\", isvc_url)\n",
    "\n",
    "print(\"Status Code\", response)\n",
    "if response == 200:\n",
    "    print(\"JSON Response \", json.dumps(response.json(), indent=2)) \n",
    "    \n",
    "labels = [\n",
    "    'airplane', \n",
    "    'automobile', \n",
    "    'bird', \n",
    "    'cat', \n",
    "    'deer', \n",
    "    'dog',\n",
    "    'frog', \n",
    "    'horse', \n",
    "    'ship', \n",
    "    'truck'\n",
    "]\n",
    "\n",
    "\n",
    "print(response.json()['predictions'])\n",
    "print(labels[response.json()['predictions'][0]])\n"
   ]
  },
  {
   "cell_type": "code",
   "execution_count": null,
   "id": "f72cef71-6e7f-4735-beae-ef8f7229cb99",
   "metadata": {},
   "outputs": [],
   "source": []
  }
 ],
 "metadata": {
  "kernelspec": {
   "display_name": "Python 3 (ipykernel)",
   "language": "python",
   "name": "python3"
  },
  "language_info": {
   "codemirror_mode": {
    "name": "ipython",
    "version": 3
   },
   "file_extension": ".py",
   "mimetype": "text/x-python",
   "name": "python",
   "nbconvert_exporter": "python",
   "pygments_lexer": "ipython3",
   "version": "3.10.8"
  }
 },
 "nbformat": 4,
 "nbformat_minor": 5
}
