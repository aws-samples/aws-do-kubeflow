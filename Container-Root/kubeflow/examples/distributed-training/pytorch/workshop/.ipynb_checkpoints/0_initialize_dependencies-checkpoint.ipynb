{
 "cells": [
  {
   "cell_type": "markdown",
   "id": "7a4d674d-16fd-441f-9f90-61ebaba8668b",
   "metadata": {},
   "source": [
    "## Setup All Workshop Dependencies\n",
    "#### Note: This Notebook Will Take A Few Minutes To Complete.\n",
    "#### Please Be Patient."
   ]
  },
  {
   "cell_type": "code",
   "execution_count": null,
   "id": "e6e65230-647e-476e-ad65-24ff21ea5ad9",
   "metadata": {
    "tags": []
   },
   "outputs": [],
   "source": [
    "#Please run the below commands to install necessary libraries \n",
    "\n",
    "!pip install kfp==1.8.4\n",
    "!pip install kubeflow-training\n",
    "!pip install kubernetes\n",
    "!pip install sagemaker"
   ]
  },
  {
   "cell_type": "code",
   "execution_count": null,
   "id": "f3b6374e-45a8-4847-a918-8f03f44c0d40",
   "metadata": {},
   "outputs": [],
   "source": []
  }
 ],
 "metadata": {
  "kernelspec": {
   "display_name": "Python 3 (ipykernel)",
   "language": "python",
   "name": "python3"
  },
  "language_info": {
   "codemirror_mode": {
    "name": "ipython",
    "version": 3
   },
   "file_extension": ".py",
   "mimetype": "text/x-python",
   "name": "python",
   "nbconvert_exporter": "python",
   "pygments_lexer": "ipython3",
   "version": "3.8.13"
  }
 },
 "nbformat": 4,
 "nbformat_minor": 5
}
